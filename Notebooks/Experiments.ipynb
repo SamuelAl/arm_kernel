{
 "cells": [
  {
   "cell_type": "code",
   "execution_count": 1,
   "id": "c9fd238b-3bd4-432f-a4c4-a55b9eddd0d6",
   "metadata": {},
   "outputs": [
    {
     "data": {
      "text/html": [
       "<p>-- kernel configured successfully --</p>"
      ]
     },
     "metadata": {},
     "output_type": "display_data"
    }
   ],
   "source": [
    "__config__\n",
    "memory:\n",
    "    items:\n",
    "        label1:\n",
    "            type: word\n",
    "            access: ro\n",
    "            content: [1,2,3]"
   ]
  },
  {
   "cell_type": "code",
   "execution_count": 3,
   "id": "7b25c218-da2f-43e7-a586-a21baeda0911",
   "metadata": {},
   "outputs": [
    {
     "data": {
      "text/html": [
       "\n",
       "<style>\n",
       "    table { border-collapse: collapse; }\n",
       "    td {\n",
       "        border-bottom: solid 1px black !important;\n",
       "        border-top: solid 1px black !important;  \n",
       "    }\n",
       "</style>\n",
       "<h4>Registers:</h4>\n",
       "<table>\n",
       "    \n",
       "    <tr>\n",
       "        <td class=\"t-cell\"><strong>r0:</strong></td>\n",
       "        <td class=\"reg-val\">0x6</td>\n",
       "    </tr>\n",
       "    \n",
       "</table>"
      ]
     },
     "metadata": {},
     "output_type": "display_data"
    }
   ],
   "source": [
    "mov R0, #3\n",
    "add R0, #3\n",
    ">>> show registers[0] as hex"
   ]
  },
  {
   "cell_type": "code",
   "execution_count": 4,
   "id": "045826d6-4384-4134-bbbf-6577128c94ed",
   "metadata": {},
   "outputs": [],
   "source": [
    "ldr r0, =label1\n",
    "ldr r1, [r0, #4]"
   ]
  },
  {
   "cell_type": "code",
   "execution_count": 5,
   "id": "04df5cf0-e840-4ee0-9b59-06975270ab8d",
   "metadata": {},
   "outputs": [
    {
     "data": {
      "text/html": [
       "\n",
       "<style>\n",
       "    table { border-collapse: collapse; }\n",
       "    td {\n",
       "        border-bottom: solid 1px black !important;\n",
       "        border-top: solid 1px black !important;  \n",
       "    }\n",
       "</style>\n",
       "<h4>Registers:</h4>\n",
       "<table>\n",
       "    \n",
       "    <tr>\n",
       "        <td class=\"t-cell\"><strong>sp:</strong></td>\n",
       "        <td class=\"reg-val\">0xffff4</td>\n",
       "    </tr>\n",
       "    \n",
       "</table>"
      ]
     },
     "metadata": {},
     "output_type": "display_data"
    }
   ],
   "source": [
    "push {r1-r3}\n",
    ">>> show registers[sp] as hex"
   ]
  },
  {
   "cell_type": "code",
   "execution_count": 6,
   "id": "398926f5-3bde-408d-8b0c-f70c03b48fd4",
   "metadata": {},
   "outputs": [
    {
     "data": {
      "text/html": [
       "\n",
       "<style>\n",
       "    table { border-collapse: collapse; }\n",
       "    td {\n",
       "        border-bottom: solid 1px black !important;\n",
       "        border-top: solid 1px black !important;  \n",
       "    }\n",
       "</style>\n",
       "<h4>Registers:</h4>\n",
       "<table>\n",
       "    \n",
       "    <tr>\n",
       "        <td class=\"t-cell\"><strong>sp:</strong></td>\n",
       "        <td class=\"reg-val\">0x100000</td>\n",
       "    </tr>\n",
       "    \n",
       "</table>"
      ]
     },
     "metadata": {},
     "output_type": "display_data"
    }
   ],
   "source": [
    "pop {r1-r3}\n",
    ">>> show registers[sp] as hex"
   ]
  },
  {
   "cell_type": "code",
   "execution_count": 7,
   "id": "569ea03b-8f07-448a-af29-380349d28cd2",
   "metadata": {},
   "outputs": [
    {
     "data": {
      "text/html": [
       "\n",
       "<style>\n",
       "    table { border-collapse: collapse; }\n",
       "    td {\n",
       "        border-bottom: solid 1px black !important;\n",
       "        border-top: solid 1px black !important;  \n",
       "    }\n",
       "</style>\n",
       "<h4>Registers:</h4>\n",
       "<table>\n",
       "    \n",
       "    <tr>\n",
       "        <td class=\"t-cell\"><strong>sp:</strong></td>\n",
       "        <td class=\"reg-val\">0x100000</td>\n",
       "    </tr>\n",
       "    \n",
       "</table>"
      ]
     },
     "metadata": {},
     "output_type": "display_data"
    }
   ],
   "source": [
    ">>> show registers[sp] as hex"
   ]
  },
  {
   "cell_type": "code",
   "execution_count": null,
   "id": "58f951a5-70e7-43ba-812e-45b6bf1be31d",
   "metadata": {},
   "outputs": [],
   "source": []
  }
 ],
 "metadata": {
  "kernelspec": {
   "display_name": "ARM",
   "language": "",
   "name": "arm_kernel"
  },
  "language_info": {
   "file_extension": ".txt",
   "mimetype": "text/html",
   "name": "Any text"
  }
 },
 "nbformat": 4,
 "nbformat_minor": 5
}
