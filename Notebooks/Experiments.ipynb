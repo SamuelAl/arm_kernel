{
 "cells": [
  {
   "cell_type": "code",
   "execution_count": 1,
   "id": "7b25c218-da2f-43e7-a586-a21baeda0911",
   "metadata": {},
   "outputs": [
    {
     "name": "stdout",
     "output_type": "stream",
     "text": [
      "Counter 0"
     ]
    }
   ],
   "source": [
    "h"
   ]
  },
  {
   "cell_type": "code",
   "execution_count": 2,
   "id": "187347bb-d6b0-469f-ae2a-4d9a8dd3d8f0",
   "metadata": {},
   "outputs": [
    {
     "name": "stdout",
     "output_type": "stream",
     "text": [
      "Counter 1"
     ]
    }
   ],
   "source": [
    "h"
   ]
  },
  {
   "cell_type": "code",
   "execution_count": 3,
   "id": "9605294c-ff0b-4695-ab8f-3fc3ec1b14e1",
   "metadata": {},
   "outputs": [
    {
     "name": "stdout",
     "output_type": "stream",
     "text": [
      "Counter 2"
     ]
    }
   ],
   "source": [
    "j"
   ]
  },
  {
   "cell_type": "code",
   "execution_count": null,
   "id": "c9fd238b-3bd4-432f-a4c4-a55b9eddd0d6",
   "metadata": {},
   "outputs": [],
   "source": []
  }
 ],
 "metadata": {
  "kernelspec": {
   "display_name": "ARM",
   "language": "",
   "name": "arm_kernel"
  },
  "language_info": {
   "file_extension": ".txt",
   "mimetype": "text/plain",
   "name": "Any text"
  }
 },
 "nbformat": 4,
 "nbformat_minor": 5
}
