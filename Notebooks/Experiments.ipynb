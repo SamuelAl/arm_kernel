{
 "cells": [
  {
   "cell_type": "code",
   "execution_count": 1,
   "id": "7b25c218-da2f-43e7-a586-a21baeda0911",
   "metadata": {},
   "outputs": [
    {
     "data": {
      "text/html": [
       "<table><tr><th>R0</th><th>2</th></tr><tr><th>R1</th><th>0</th></tr><tr><th>R2</th><th>0</th></tr><tr><th>R3</th><th>0</th></tr><tr><th>R4</th><th>0</th></tr><tr><th>R5</th><th>0</th></tr><tr><th>R6</th><th>0</th></tr><tr><th>R7</th><th>0</th></tr><tr><th>R8</th><th>0</th></tr><tr><th>R9</th><th>0</th></tr><tr><th>R10</th><th>0</th></tr><tr><th>R11</th><th>0</th></tr><tr><th>R12</th><th>0</th></tr></table>"
      ]
     },
     "metadata": {},
     "output_type": "display_data"
    }
   ],
   "source": [
    "mov R0, #1\n",
    "add R0, #1"
   ]
  },
  {
   "cell_type": "code",
   "execution_count": 2,
   "id": "c9fd238b-3bd4-432f-a4c4-a55b9eddd0d6",
   "metadata": {},
   "outputs": [
    {
     "data": {
      "text/html": [
       "<table><tr><th>R0</th><th>2</th></tr><tr><th>R1</th><th>1</th></tr><tr><th>R2</th><th>0</th></tr><tr><th>R3</th><th>0</th></tr><tr><th>R4</th><th>0</th></tr><tr><th>R5</th><th>0</th></tr><tr><th>R6</th><th>0</th></tr><tr><th>R7</th><th>0</th></tr><tr><th>R8</th><th>0</th></tr><tr><th>R9</th><th>0</th></tr><tr><th>R10</th><th>0</th></tr><tr><th>R11</th><th>0</th></tr><tr><th>R12</th><th>0</th></tr></table>"
      ]
     },
     "metadata": {},
     "output_type": "display_data"
    }
   ],
   "source": [
    "mov R1, #1"
   ]
  },
  {
   "cell_type": "code",
   "execution_count": 3,
   "id": "045826d6-4384-4134-bbbf-6577128c94ed",
   "metadata": {},
   "outputs": [
    {
     "data": {
      "text/html": [
       "<table><tr><th>R0</th><th>1</th></tr><tr><th>R1</th><th>2</th></tr><tr><th>R2</th><th>0</th></tr><tr><th>R3</th><th>0</th></tr><tr><th>R4</th><th>0</th></tr><tr><th>R5</th><th>0</th></tr><tr><th>R6</th><th>0</th></tr><tr><th>R7</th><th>0</th></tr><tr><th>R8</th><th>0</th></tr><tr><th>R9</th><th>0</th></tr><tr><th>R10</th><th>0</th></tr><tr><th>R11</th><th>0</th></tr><tr><th>R12</th><th>0</th></tr></table>"
      ]
     },
     "metadata": {},
     "output_type": "display_data"
    }
   ],
   "source": [
    "add R1, R0, R0"
   ]
  },
  {
   "cell_type": "code",
   "execution_count": null,
   "id": "04df5cf0-e840-4ee0-9b59-06975270ab8d",
   "metadata": {},
   "outputs": [],
   "source": []
  }
 ],
 "metadata": {
  "kernelspec": {
   "display_name": "ARM",
   "language": "",
   "name": "arm_kernel"
  },
  "language_info": {
   "file_extension": ".txt",
   "mimetype": "text/html",
   "name": "Any text"
  }
 },
 "nbformat": 4,
 "nbformat_minor": 5
}
