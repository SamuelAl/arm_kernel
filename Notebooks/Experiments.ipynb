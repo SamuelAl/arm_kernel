{
 "cells": [
  {
   "cell_type": "code",
   "execution_count": 2,
   "id": "c9fd238b-3bd4-432f-a4c4-a55b9eddd0d6",
   "metadata": {
    "tags": []
   },
   "outputs": [
    {
     "data": {
      "text/html": [
       "<p>-- kernel configured successfully --</p>"
      ]
     },
     "metadata": {},
     "output_type": "display_data"
    }
   ],
   "source": [
    "__config__\n",
    "memory:\n",
    "    items:\n",
    "        label1:\n",
    "            type: word\n",
    "            access: ro\n",
    "            size: 3\n",
    "            content: [1,2,3]\n",
    "        label2:\n",
    "            type: ascii\n",
    "            access: ro\n",
    "            content: \"hello\""
   ]
  },
  {
   "cell_type": "code",
   "execution_count": 3,
   "id": "7b25c218-da2f-43e7-a586-a21baeda0911",
   "metadata": {
    "tags": []
   },
   "outputs": [
    {
     "data": {
      "text/html": [
       "\n",
       "<style>\n",
       "    table { border-collapse: collapse; }\n",
       "    td {\n",
       "        border-bottom: solid 1px black !important;\n",
       "        border-top: solid 1px black !important;  \n",
       "    }\n",
       "</style>\n",
       "<h4>Registers:</h4>\n",
       "<table style='font-family:\"Courier New\", Courier, monospace;'>\n",
       "    \n",
       "    <tr>\n",
       "        <td class=\"t-cell\"><strong>r0:</strong></td>\n",
       "        <td class=\"reg-val\">0x00306010</td>\n",
       "    </tr>\n",
       "    \n",
       "    <tr>\n",
       "        <td class=\"t-cell\"><strong>r1:</strong></td>\n",
       "        <td class=\"reg-val\">0x0000006f</td>\n",
       "    </tr>\n",
       "    \n",
       "</table>"
      ]
     },
     "metadata": {},
     "output_type": "display_data"
    }
   ],
   "source": [
    "ldr r0, =label2\n",
    "ldrb r1, [r0, #4]\n",
    ">>> show registers[0-1] as hex"
   ]
  },
  {
   "cell_type": "code",
   "execution_count": 4,
   "id": "398926f5-3bde-408d-8b0c-f70c03b48fd4",
   "metadata": {
    "tags": []
   },
   "outputs": [
    {
     "data": {
      "text/html": [
       "\n",
       "<h4>NZCV Flags</h4>\n",
       "<table style='font-family:\"Courier New\", Courier, monospace;'>\n",
       "<tr>\n",
       "    <th>N</th><th>Z</th><th>C</th><th>V</th>\n",
       "</tr>\n",
       "<tr>\n",
       "    <td>0</td>\n",
       "    <td>1</td>\n",
       "    <td>0</td>\n",
       "    <td>1</td>\n",
       "</tr>\n",
       "</table>"
      ]
     },
     "metadata": {},
     "output_type": "display_data"
    }
   ],
   "source": [
    "movs r0, #0\n",
    ">>> show flags"
   ]
  },
  {
   "cell_type": "code",
   "execution_count": 5,
   "id": "58f951a5-70e7-43ba-812e-45b6bf1be31d",
   "metadata": {
    "tags": []
   },
   "outputs": [
    {
     "data": {
      "text/html": [
       "\n",
       "<h4>Stack:</h4>\n",
       "<table style='font-family:\"Courier New\", Courier, monospace;'>\n",
       "<tr>\n",
       "    <th>Address</th>\n",
       "    <th>Content</th>\n",
       "    <th>SP</th>\n",
       "</tr>\n",
       "<tr>\n",
       "    <td>0x00001000</td>\n",
       "    <td>Bottom</td>\n",
       "    <td>\n",
       "        \n",
       "    </td>\n",
       "</tr>\n",
       "<tr\n",
       "\n",
       "    <tr>\n",
       "        <td>0x00000ffc</td>\n",
       "        <td>3</td>\n",
       "        <td>\n",
       "            \n",
       "        </td>\n",
       "    </tr>\n",
       "\n",
       "    <tr>\n",
       "        <td>0x00000ff8</td>\n",
       "        <td>2</td>\n",
       "        <td>\n",
       "            \n",
       "        </td>\n",
       "    </tr>\n",
       "\n",
       "    <tr>\n",
       "        <td>0x00000ff4</td>\n",
       "        <td>1</td>\n",
       "        <td>\n",
       "            \n",
       "            <em>&larr;</em>\n",
       "            \n",
       "        </td>\n",
       "    </tr>\n",
       "\n",
       "</table>"
      ]
     },
     "metadata": {},
     "output_type": "display_data"
    }
   ],
   "source": [
    "mov r1, #1\n",
    "mov r2, #2\n",
    "mov r3, #3\n",
    "push {r1 - r3}\n",
    ">>> show stack as dec"
   ]
  },
  {
   "cell_type": "code",
   "execution_count": 6,
   "id": "932cec47-df45-4c4e-bfaf-e972f02e5c0e",
   "metadata": {
    "tags": []
   },
   "outputs": [
    {
     "data": {
      "text/html": [
       "\n",
       "<h4>Stack:</h4>\n",
       "<table style='font-family:\"Courier New\", Courier, monospace;'>\n",
       "<tr>\n",
       "    <th>Address</th>\n",
       "    <th>Content</th>\n",
       "    <th>SP</th>\n",
       "</tr>\n",
       "<tr>\n",
       "    <td>0x00001000</td>\n",
       "    <td>Bottom</td>\n",
       "    <td>\n",
       "        \n",
       "        <em>&larr;</em>\n",
       "        \n",
       "    </td>\n",
       "</tr>\n",
       "<tr\n",
       "\n",
       "</table>"
      ]
     },
     "metadata": {},
     "output_type": "display_data"
    }
   ],
   "source": [
    "pop {r1-r3}\n",
    ">>> show stack as hex"
   ]
  },
  {
   "cell_type": "code",
   "execution_count": 7,
   "id": "9e66d5dd-19b4-403e-a4fb-1a308449f884",
   "metadata": {
    "tags": []
   },
   "outputs": [
    {
     "data": {
      "text/html": [
       "\n",
       "<h4>Memory:</h4>\n",
       "<table style='font-family:\"Courier New\", Courier, monospace;'>\n",
       "<tr>\n",
       "    <th>Address</th>\n",
       "    <th>Content</th>\n",
       "</tr>\n",
       "<tr\n",
       "\n",
       "    <tr>\n",
       "        <td>0x00306010</td>\n",
       "        \n",
       "        <td>h</td>\n",
       "        \n",
       "        <td>e</td>\n",
       "        \n",
       "        <td>l</td>\n",
       "        \n",
       "        <td>l</td>\n",
       "        \n",
       "    </tr>\n",
       "\n",
       "    <tr>\n",
       "        <td>0x00306014</td>\n",
       "        \n",
       "        <td>o</td>\n",
       "        \n",
       "        <td>\\x00</td>\n",
       "        \n",
       "        <td>\\x00</td>\n",
       "        \n",
       "        <td>\\x00</td>\n",
       "        \n",
       "    </tr>\n",
       "\n",
       "</table>"
      ]
     },
     "metadata": {},
     "output_type": "display_data"
    }
   ],
   "source": [
    ">>> show memb[label2] as char"
   ]
  },
  {
   "cell_type": "code",
   "execution_count": 8,
   "id": "d45fbd3d-1977-4473-994a-aed64840ea48",
   "metadata": {
    "tags": []
   },
   "outputs": [
    {
     "data": {
      "text/html": [
       "\n",
       "<h4>Disassembly:</h4>\n",
       "<p></p>\n",
       "<p></p>\n",
       "<table style='font-family:\"Courier New\", Courier, monospace;'>\n",
       "<tr>\n",
       "    <th>Address</th>\n",
       "    <th>Bytes</th>\n",
       "    <th>Mnemonic</th>\n",
       "    <th>Operators</th>\n",
       "</tr>\n",
       "\n",
       "<tr>\n",
       "\n",
       "    <td>0x00507000</td>\n",
       "    <td>0x0000a0e3</td>\n",
       "    <td>mov</td>\n",
       "    <td style=\"text-align: left\">r0, #0</td>\n",
       "\n",
       "</tr>\n",
       "\n",
       "<tr>\n",
       "\n",
       "    <td>0x00507004</td>\n",
       "    <td>0x030050e3</td>\n",
       "    <td>cmp</td>\n",
       "    <td style=\"text-align: left\">r0, #3</td>\n",
       "\n",
       "</tr>\n",
       "\n",
       "<tr>\n",
       "\n",
       "    <td>0x00507008</td>\n",
       "    <td>0x0100000a</td>\n",
       "    <td>beq</td>\n",
       "    <td style=\"text-align: left\">#0x507014</td>\n",
       "\n",
       "</tr>\n",
       "\n",
       "<tr>\n",
       "\n",
       "    <td>0x0050700c</td>\n",
       "    <td>0x010080e2</td>\n",
       "    <td>add</td>\n",
       "    <td style=\"text-align: left\">r0, r0, #1</td>\n",
       "\n",
       "</tr>\n",
       "\n",
       "<tr>\n",
       "\n",
       "    <td>0x00507010</td>\n",
       "    <td>0xfbffffea</td>\n",
       "    <td>b</td>\n",
       "    <td style=\"text-align: left\">#0x507004</td>\n",
       "\n",
       "</tr>\n",
       "\n",
       "</table>"
      ]
     },
     "metadata": {},
     "output_type": "display_data"
    }
   ],
   "source": [
    "    mov r0, #0\n",
    "for:\n",
    "    cmp r0, #3\n",
    "    beq endfor\n",
    "    add r0, #1\n",
    "    b for\n",
    "endfor:\n",
    ">>> show disasm"
   ]
  },
  {
   "cell_type": "code",
   "execution_count": 9,
   "id": "3ebd12b6-f080-45c8-8fbc-274296fde2fb",
   "metadata": {
    "tags": []
   },
   "outputs": [
    {
     "data": {
      "text/html": [
       "\n",
       "<style>\n",
       "    table { border-collapse: collapse; }\n",
       "    td {\n",
       "        border-bottom: solid 1px black !important;\n",
       "        border-top: solid 1px black !important;  \n",
       "    }\n",
       "</style>\n",
       "<h4>Registers:</h4>\n",
       "<table style='font-family:\"Courier New\", Courier, monospace;'>\n",
       "    \n",
       "    <tr>\n",
       "        <td class=\"t-cell\"><strong>r0:</strong></td>\n",
       "        <td class=\"reg-val\">0x0000000a</td>\n",
       "    </tr>\n",
       "    \n",
       "</table>"
      ]
     },
     "metadata": {},
     "output_type": "display_data"
    }
   ],
   "source": [
    "mov r0, #10\n",
    "\n",
    ">>> show registers[0] as hex"
   ]
  },
  {
   "cell_type": "code",
   "execution_count": 10,
   "id": "4bac9098-58da-4596-a162-6b8ce8b465dd",
   "metadata": {
    "tags": []
   },
   "outputs": [
    {
     "data": {
      "text/html": [
       "\n",
       "<style>\n",
       "    table { border-collapse: collapse; }\n",
       "    td {\n",
       "        border-bottom: solid 1px black !important;\n",
       "        border-top: solid 1px black !important;  \n",
       "    }\n",
       "</style>\n",
       "<h4>Registers:</h4>\n",
       "<table style='font-family:\"Courier New\", Courier, monospace;'>\n",
       "    \n",
       "    <tr>\n",
       "        <td class=\"t-cell\"><strong>r1:</strong></td>\n",
       "        <td class=\"reg-val\">0x0000000a</td>\n",
       "    </tr>\n",
       "    \n",
       "</table>"
      ]
     },
     "metadata": {},
     "output_type": "display_data"
    }
   ],
   "source": [
    "ldr r1, =10\n",
    "\n",
    ">>> show registers[1] as hex"
   ]
  },
  {
   "cell_type": "code",
   "execution_count": 11,
   "id": "8a604ed3-5d9b-4eba-9619-402ccef6e8d7",
   "metadata": {
    "tags": []
   },
   "outputs": [
    {
     "data": {
      "text/html": [
       "\n",
       "<style>\n",
       "    table { border-collapse: collapse; }\n",
       "    td {\n",
       "        border-bottom: solid 1px black !important;\n",
       "        border-top: solid 1px black !important;  \n",
       "    }\n",
       "</style>\n",
       "<h4>Registers:</h4>\n",
       "<table style='font-family:\"Courier New\", Courier, monospace;'>\n",
       "    \n",
       "    <tr>\n",
       "        <td class=\"t-cell\"><strong>r0:</strong></td>\n",
       "        <td class=\"reg-val\">0</td>\n",
       "    </tr>\n",
       "    \n",
       "</table>"
      ]
     },
     "metadata": {},
     "output_type": "display_data"
    }
   ],
   "source": [
    ">>> show registers[0]"
   ]
  },
  {
   "cell_type": "code",
   "execution_count": 12,
   "id": "41226687-102a-41e6-b846-1ec8a8f80c78",
   "metadata": {},
   "outputs": [
    {
     "data": {
      "text/html": [
       "<p>-- subroutine simp registered successfully --</p>"
      ]
     },
     "metadata": {},
     "output_type": "display_data"
    }
   ],
   "source": [
    "__subroutine:simp__\n",
    "simp:\n",
    "    mov r0, #1\n",
    "    bx lr"
   ]
  },
  {
   "cell_type": "code",
   "execution_count": 13,
   "id": "1256270d-45d3-4213-a869-83cc5d1b12b8",
   "metadata": {
    "tags": []
   },
   "outputs": [],
   "source": [
    "mov r0, #0\n",
    "bl simp"
   ]
  },
  {
   "cell_type": "code",
   "execution_count": 14,
   "id": "51bcd095-145b-45d6-a414-d4600acaff60",
   "metadata": {
    "tags": []
   },
   "outputs": [
    {
     "data": {
      "text/html": [
       "\n",
       "<style>\n",
       "    table { border-collapse: collapse; }\n",
       "    td {\n",
       "        border-bottom: solid 1px black !important;\n",
       "        border-top: solid 1px black !important;  \n",
       "    }\n",
       "</style>\n",
       "<h4>Registers:</h4>\n",
       "<table style='font-family:\"Courier New\", Courier, monospace;'>\n",
       "    \n",
       "    <tr>\n",
       "        <td class=\"t-cell\"><strong>r0:</strong></td>\n",
       "        <td class=\"reg-val\">0x00000001</td>\n",
       "    </tr>\n",
       "    \n",
       "</table>"
      ]
     },
     "metadata": {},
     "output_type": "display_data"
    }
   ],
   "source": [
    ">>> show registers[0] as hex"
   ]
  },
  {
   "cell_type": "code",
   "execution_count": 18,
   "id": "c42da84e-339e-4905-96ea-d99ce152b913",
   "metadata": {
    "tags": []
   },
   "outputs": [
    {
     "data": {
      "text/html": [
       "\n",
       "<style>\n",
       "    table { border-collapse: collapse; }\n",
       "    td {\n",
       "        border-bottom: solid 1px black !important;\n",
       "        border-top: solid 1px black !important;  \n",
       "    }\n",
       "</style>\n",
       "<h4>Registers:</h4>\n",
       "<table style='font-family:\"Courier New\", Courier, monospace;'>\n",
       "    \n",
       "    <tr>\n",
       "        <td class=\"t-cell\"><strong>r0:</strong></td>\n",
       "        <td class=\"reg-val\">0x0000400c</td>\n",
       "    </tr>\n",
       "    \n",
       "</table>"
      ]
     },
     "metadata": {},
     "output_type": "display_data"
    }
   ],
   "source": [
    "ldr r0, =stack\n",
    ">>> show registers[0] as hex"
   ]
  },
  {
   "cell_type": "code",
   "execution_count": 16,
   "id": "b7f33423-9d2e-4731-bfb4-252896fee02e",
   "metadata": {
    "tags": []
   },
   "outputs": [
    {
     "data": {
      "text/html": [
       "<p>-- subroutine stack registered successfully --</p>"
      ]
     },
     "metadata": {},
     "output_type": "display_data"
    }
   ],
   "source": [
    "__subroutine:stack__\n",
    "stack:\n",
    "    push {r4-r5, lr}\n",
    "    mov r0, #1\n",
    "    pop {r4-r5, pc}"
   ]
  },
  {
   "cell_type": "code",
   "execution_count": 19,
   "id": "86fecc92-749a-422c-b11d-3086cc654028",
   "metadata": {
    "tags": []
   },
   "outputs": [],
   "source": [
    "mov r0, #0\n",
    "bl stack"
   ]
  },
  {
   "cell_type": "code",
   "execution_count": 6,
   "id": "7e0b02cb-3375-4bc6-8bfc-e7bb4a0dfca0",
   "metadata": {
    "tags": []
   },
   "outputs": [
    {
     "data": {
      "text/html": [
       "\n",
       "<h4>Stack:</h4>\n",
       "<table style='font-family:\"Courier New\", Courier, monospace;'>\n",
       "<tr>\n",
       "    <th>Address</th>\n",
       "    <th>Content</th>\n",
       "    <th>SP</th>\n",
       "</tr>\n",
       "<tr>\n",
       "    <td>0x00001000</td>\n",
       "    <td>Bottom</td>\n",
       "    <td>\n",
       "        \n",
       "        <em>&larr;</em>\n",
       "        \n",
       "    </td>\n",
       "</tr>\n",
       "<tr\n",
       "\n",
       "</table>"
      ]
     },
     "metadata": {},
     "output_type": "display_data"
    }
   ],
   "source": [
    ">>> show stack"
   ]
  },
  {
   "cell_type": "code",
   "execution_count": 20,
   "id": "ce5cc99f-f894-48ef-90f8-b4c8c77a6b32",
   "metadata": {},
   "outputs": [
    {
     "data": {
      "text/html": [
       "\n",
       "<style>\n",
       "    table { border-collapse: collapse; }\n",
       "    td {\n",
       "        border-bottom: solid 1px black !important;\n",
       "        border-top: solid 1px black !important;  \n",
       "    }\n",
       "</style>\n",
       "<h4>Registers:</h4>\n",
       "<table style='font-family:\"Courier New\", Courier, monospace;'>\n",
       "    \n",
       "    <tr>\n",
       "        <td class=\"t-cell\"><strong>r0:</strong></td>\n",
       "        <td class=\"reg-val\">1</td>\n",
       "    </tr>\n",
       "    \n",
       "</table>"
      ]
     },
     "metadata": {},
     "output_type": "display_data"
    }
   ],
   "source": [
    ">>> show registers[0]"
   ]
  },
  {
   "cell_type": "code",
   "execution_count": null,
   "id": "203a1194-d6d4-469c-a372-9607f350beee",
   "metadata": {},
   "outputs": [],
   "source": []
  }
 ],
 "metadata": {
  "kernelspec": {
   "display_name": "ARM",
   "language": "ARM Assembly",
   "name": "arm"
  },
  "language_info": {
   "file_extension": ".txt",
   "mimetype": "text/html",
   "name": "Any text"
  }
 },
 "nbformat": 4,
 "nbformat_minor": 5
}
