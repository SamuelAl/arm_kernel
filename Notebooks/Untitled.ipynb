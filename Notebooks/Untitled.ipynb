{
 "cells": [
  {
   "cell_type": "code",
   "execution_count": null,
   "id": "84bea5d0-2f09-4928-9c40-55633319a5fb",
   "metadata": {},
   "outputs": [],
   "source": []
  }
 ],
 "metadata": {
  "kernelspec": {
   "display_name": "ARM",
   "language": "",
   "name": "arm_kernel"
  },
  "language_info": {
   "file_extension": ".txt",
   "mimetype": "text/html",
   "name": "Any text"
  }
 },
 "nbformat": 4,
 "nbformat_minor": 5
}
