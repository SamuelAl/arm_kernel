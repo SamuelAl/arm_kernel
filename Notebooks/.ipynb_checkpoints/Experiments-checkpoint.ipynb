{
 "cells": [
  {
   "cell_type": "code",
   "execution_count": 1,
   "id": "c9fd238b-3bd4-432f-a4c4-a55b9eddd0d6",
   "metadata": {
    "tags": []
   },
   "outputs": [
    {
     "data": {
      "text/html": [
       "<p>-- kernel configured successfully --</p>"
      ]
     },
     "metadata": {},
     "output_type": "display_data"
    }
   ],
   "source": [
    "__config__\n",
    "memory:\n",
    "    items:\n",
    "        label1:\n",
    "            type: word\n",
    "            access: ro\n",
    "            size: 3\n",
    "            content: [1,2,3]\n",
    "        label2:\n",
    "            type: ascii\n",
    "            access: rw\n",
    "            content: \"hello\""
   ]
  },
  {
   "cell_type": "code",
   "execution_count": 2,
   "id": "7b25c218-da2f-43e7-a586-a21baeda0911",
   "metadata": {
    "tags": []
   },
   "outputs": [
    {
     "data": {
      "text/html": [
       "\n",
       "<style>\n",
       "    table { border-collapse: collapse; }\n",
       "    td {\n",
       "        border-bottom: solid 1px black !important;\n",
       "        border-top: solid 1px black !important;  \n",
       "    }\n",
       "</style>\n",
       "<h4>Registers:</h4>\n",
       "<table>\n",
       "    \n",
       "    <tr>\n",
       "        <td class=\"t-cell\"><strong>r0:</strong></td>\n",
       "        <td class=\"reg-val\">0x0057f000</td>\n",
       "    </tr>\n",
       "    \n",
       "    <tr>\n",
       "        <td class=\"t-cell\"><strong>r1:</strong></td>\n",
       "        <td class=\"reg-val\">0x00000065</td>\n",
       "    </tr>\n",
       "    \n",
       "</table>"
      ]
     },
     "metadata": {},
     "output_type": "display_data"
    }
   ],
   "source": [
    "ldr r0, =label2\n",
    "ldrb r1, [r0, #1]\n",
    ">>> show registers[0-1] as hex"
   ]
  },
  {
   "cell_type": "code",
   "execution_count": 3,
   "id": "398926f5-3bde-408d-8b0c-f70c03b48fd4",
   "metadata": {
    "tags": []
   },
   "outputs": [
    {
     "data": {
      "text/html": [
       "\n",
       "<h4>NZCV Flags</h4>\n",
       "<table>\n",
       "<tr>\n",
       "    <th>N</th><th>Z</th><th>C</th><th>V</th>\n",
       "</tr>\n",
       "<tr>\n",
       "    <td>0</td>\n",
       "    <td>1</td>\n",
       "    <td>1</td>\n",
       "    <td>0</td>\n",
       "</tr>\n",
       "</table>"
      ]
     },
     "metadata": {},
     "output_type": "display_data"
    }
   ],
   "source": [
    "movs r0, #0\n",
    ">>> show flags"
   ]
  },
  {
   "cell_type": "code",
   "execution_count": 13,
   "id": "58f951a5-70e7-43ba-812e-45b6bf1be31d",
   "metadata": {
    "tags": []
   },
   "outputs": [
    {
     "data": {
      "text/html": [
       "\n",
       "<h4>Stack:</h4>\n",
       "<table>\n",
       "<tr>\n",
       "    <th>Address</th>\n",
       "    <th>Content</th>\n",
       "    <th>SP</th>\n",
       "</tr>\n",
       "<tr>\n",
       "    <td>0x00100000</td>\n",
       "    <td>Bottom</td>\n",
       "    <td>\n",
       "        \n",
       "    </td>\n",
       "</tr>\n",
       "<tr\n",
       "\n",
       "    <tr>\n",
       "        <td>0x000ffffc</td>\n",
       "        <td>3</td>\n",
       "        <td>\n",
       "            \n",
       "        </td>\n",
       "    </tr>\n",
       "\n",
       "    <tr>\n",
       "        <td>0x000ffff8</td>\n",
       "        <td>2</td>\n",
       "        <td>\n",
       "            \n",
       "        </td>\n",
       "    </tr>\n",
       "\n",
       "    <tr>\n",
       "        <td>0x000ffff4</td>\n",
       "        <td>1</td>\n",
       "        <td>\n",
       "            \n",
       "            <em>&larr;</em>\n",
       "            \n",
       "        </td>\n",
       "    </tr>\n",
       "\n",
       "</table>"
      ]
     },
     "metadata": {},
     "output_type": "display_data"
    }
   ],
   "source": [
    "mov r1, #1\n",
    "mov r2, #2\n",
    "mov r3, #3\n",
    "push {r1 - r3}\n",
    ">>> show stack as dec"
   ]
  },
  {
   "cell_type": "code",
   "execution_count": 14,
   "id": "932cec47-df45-4c4e-bfaf-e972f02e5c0e",
   "metadata": {
    "tags": []
   },
   "outputs": [
    {
     "data": {
      "text/html": [
       "\n",
       "<h4>Stack:</h4>\n",
       "<table>\n",
       "<tr>\n",
       "    <th>Address</th>\n",
       "    <th>Content</th>\n",
       "    <th>SP</th>\n",
       "</tr>\n",
       "<tr>\n",
       "    <td>0x00100000</td>\n",
       "    <td>Bottom</td>\n",
       "    <td>\n",
       "        \n",
       "        <em>&larr;</em>\n",
       "        \n",
       "    </td>\n",
       "</tr>\n",
       "<tr\n",
       "\n",
       "</table>"
      ]
     },
     "metadata": {},
     "output_type": "display_data"
    }
   ],
   "source": [
    "pop {r1-r3}\n",
    ">>> show stack as hex"
   ]
  },
  {
   "cell_type": "code",
   "execution_count": 8,
   "id": "9e66d5dd-19b4-403e-a4fb-1a308449f884",
   "metadata": {
    "tags": []
   },
   "outputs": [
    {
     "data": {
      "text/html": [
       "\n",
       "<h4>Memory:</h4>\n",
       "<table>\n",
       "<tr>\n",
       "    <th>Address</th>\n",
       "    <th>Content</th>\n",
       "</tr>\n",
       "<tr\n",
       "\n",
       "    <tr>\n",
       "        <td>0x0057f000</td>\n",
       "        \n",
       "        <td>h</td>\n",
       "        \n",
       "        <td>e</td>\n",
       "        \n",
       "        <td>l</td>\n",
       "        \n",
       "        <td>l</td>\n",
       "        \n",
       "    </tr>\n",
       "\n",
       "    <tr>\n",
       "        <td>0x0057f004</td>\n",
       "        \n",
       "        <td>o</td>\n",
       "        \n",
       "        <td>\\x00</td>\n",
       "        \n",
       "        <td>\\x00</td>\n",
       "        \n",
       "        <td>\\x00</td>\n",
       "        \n",
       "    </tr>\n",
       "\n",
       "</table>"
      ]
     },
     "metadata": {},
     "output_type": "display_data"
    }
   ],
   "source": [
    ">>> show memb[label2] as char"
   ]
  },
  {
   "cell_type": "code",
   "execution_count": 9,
   "id": "d45fbd3d-1977-4473-994a-aed64840ea48",
   "metadata": {
    "tags": []
   },
   "outputs": [
    {
     "data": {
      "text/html": [
       "\n",
       "<style>\n",
       "    table { border-collapse: collapse; }\n",
       "    td {\n",
       "        border-bottom: solid 1px black !important;\n",
       "        border-top: solid 1px black !important;  \n",
       "    }\n",
       "</style>\n",
       "<h4>Registers:</h4>\n",
       "<table>\n",
       "    \n",
       "    <tr>\n",
       "        <td class=\"t-cell\"><strong>r0:</strong></td>\n",
       "        <td class=\"reg-val\">3</td>\n",
       "    </tr>\n",
       "    \n",
       "</table>"
      ]
     },
     "metadata": {},
     "output_type": "display_data"
    }
   ],
   "source": [
    "    mov r0, #0\n",
    "for:\n",
    "    cmp r0, #3\n",
    "    beq endfor\n",
    "    add r0, #1\n",
    "    b for\n",
    "endfor:\n",
    ">>> show registers[0]"
   ]
  },
  {
   "cell_type": "code",
   "execution_count": 10,
   "id": "3ebd12b6-f080-45c8-8fbc-274296fde2fb",
   "metadata": {
    "tags": []
   },
   "outputs": [
    {
     "data": {
      "text/html": [
       "\n",
       "<style>\n",
       "    table { border-collapse: collapse; }\n",
       "    td {\n",
       "        border-bottom: solid 1px black !important;\n",
       "        border-top: solid 1px black !important;  \n",
       "    }\n",
       "</style>\n",
       "<h4>Registers:</h4>\n",
       "<table>\n",
       "    \n",
       "    <tr>\n",
       "        <td class=\"t-cell\"><strong>r0:</strong></td>\n",
       "        <td class=\"reg-val\">0x0000000a</td>\n",
       "    </tr>\n",
       "    \n",
       "</table>"
      ]
     },
     "metadata": {},
     "output_type": "display_data"
    }
   ],
   "source": [
    "mov r0, #10\n",
    "\n",
    ">>> show registers[0] as hex"
   ]
  },
  {
   "cell_type": "code",
   "execution_count": 11,
   "id": "4bac9098-58da-4596-a162-6b8ce8b465dd",
   "metadata": {
    "tags": []
   },
   "outputs": [
    {
     "data": {
      "text/html": [
       "\n",
       "<style>\n",
       "    table { border-collapse: collapse; }\n",
       "    td {\n",
       "        border-bottom: solid 1px black !important;\n",
       "        border-top: solid 1px black !important;  \n",
       "    }\n",
       "</style>\n",
       "<h4>Registers:</h4>\n",
       "<table>\n",
       "    \n",
       "    <tr>\n",
       "        <td class=\"t-cell\"><strong>r1:</strong></td>\n",
       "        <td class=\"reg-val\">0x0000000a</td>\n",
       "    </tr>\n",
       "    \n",
       "</table>"
      ]
     },
     "metadata": {},
     "output_type": "display_data"
    }
   ],
   "source": [
    "ldr r1, =10\n",
    "\n",
    ">>> show registers[1] as hex"
   ]
  },
  {
   "cell_type": "code",
   "execution_count": 12,
   "id": "8a604ed3-5d9b-4eba-9619-402ccef6e8d7",
   "metadata": {
    "tags": []
   },
   "outputs": [
    {
     "data": {
      "text/html": [
       "\n",
       "<style>\n",
       "    table { border-collapse: collapse; }\n",
       "    td {\n",
       "        border-bottom: solid 1px black !important;\n",
       "        border-top: solid 1px black !important;  \n",
       "    }\n",
       "</style>\n",
       "<h4>Registers:</h4>\n",
       "<table>\n",
       "    \n",
       "    <tr>\n",
       "        <td class=\"t-cell\"><strong>r0:</strong></td>\n",
       "        <td class=\"reg-val\">0</td>\n",
       "    </tr>\n",
       "    \n",
       "</table>"
      ]
     },
     "metadata": {},
     "output_type": "display_data"
    }
   ],
   "source": [
    ">>> show registers[0]"
   ]
  },
  {
   "cell_type": "code",
   "execution_count": null,
   "id": "41226687-102a-41e6-b846-1ec8a8f80c78",
   "metadata": {},
   "outputs": [],
   "source": []
  }
 ],
 "metadata": {
  "kernelspec": {
   "display_name": "ARM",
   "language": "",
   "name": "arm_kernel"
  },
  "language_info": {
   "file_extension": ".txt",
   "mimetype": "text/html",
   "name": "Any text"
  }
 },
 "nbformat": 4,
 "nbformat_minor": 5
}
