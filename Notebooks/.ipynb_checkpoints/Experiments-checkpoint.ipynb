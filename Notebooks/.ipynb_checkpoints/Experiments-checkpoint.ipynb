{
 "cells": [
  {
   "cell_type": "code",
   "execution_count": 1,
   "id": "c9fd238b-3bd4-432f-a4c4-a55b9eddd0d6",
   "metadata": {},
   "outputs": [
    {
     "data": {
      "text/html": [
       "<p>-- kernel configured successfully --</p>"
      ]
     },
     "metadata": {},
     "output_type": "display_data"
    }
   ],
   "source": [
    "__config__\n",
    "memory:\n",
    "    items:\n",
    "        label1:\n",
    "            type: word\n",
    "            access: ro\n",
    "            size: 3\n",
    "            content: [1,2,3]\n",
    "        label2:\n",
    "            type: ascii\n",
    "            access: rw\n",
    "            content: \"hello\""
   ]
  },
  {
   "cell_type": "code",
   "execution_count": 16,
   "id": "7b25c218-da2f-43e7-a586-a21baeda0911",
   "metadata": {},
   "outputs": [
    {
     "data": {
      "text/html": [
       "\n",
       "<style>\n",
       "    table { border-collapse: collapse; }\n",
       "    td {\n",
       "        border-bottom: solid 1px black !important;\n",
       "        border-top: solid 1px black !important;  \n",
       "    }\n",
       "</style>\n",
       "<h4>Registers:</h4>\n",
       "<table>\n",
       "    \n",
       "    <tr>\n",
       "        <td class=\"t-cell\"><strong>r0:</strong></td>\n",
       "        <td class=\"reg-val\">5763072</td>\n",
       "    </tr>\n",
       "    \n",
       "    <tr>\n",
       "        <td class=\"t-cell\"><strong>r1:</strong></td>\n",
       "        <td class=\"reg-val\">101</td>\n",
       "    </tr>\n",
       "    \n",
       "</table>"
      ]
     },
     "metadata": {},
     "output_type": "display_data"
    }
   ],
   "source": [
    "ldr r0, =label2\n",
    "ldrb r1, [r0, #1]\n",
    ">>> show registers[0-1] as dec"
   ]
  },
  {
   "cell_type": "code",
   "execution_count": 15,
   "id": "398926f5-3bde-408d-8b0c-f70c03b48fd4",
   "metadata": {},
   "outputs": [
    {
     "data": {
      "text/html": [
       "\n",
       "<h4>NZCV Flags</h4>\n",
       "<table>\n",
       "<tr>\n",
       "    <th>N</th><th>Z</th><th>C</th><th>V</th>\n",
       "</tr>\n",
       "<tr>\n",
       "    <td>1</td>\n",
       "    <td>0</td>\n",
       "    <td>0</td>\n",
       "    <td>0</td>\n",
       "</tr>\n",
       "</table>"
      ]
     },
     "metadata": {},
     "output_type": "display_data"
    }
   ],
   "source": [
    "movs r0, \n",
    ">>> show flags"
   ]
  },
  {
   "cell_type": "code",
   "execution_count": null,
   "id": "58f951a5-70e7-43ba-812e-45b6bf1be31d",
   "metadata": {},
   "outputs": [],
   "source": [
    "mov r1, #1\n",
    "mov r2, #2\n",
    "mov r3, #3\n",
    "push {r1 - r3}"
   ]
  },
  {
   "cell_type": "code",
   "execution_count": null,
   "id": "5b7411c3-94b3-48f0-8a54-ddd06b052e69",
   "metadata": {},
   "outputs": [],
   "source": [
    ">>> show stack as dec"
   ]
  },
  {
   "cell_type": "code",
   "execution_count": null,
   "id": "932cec47-df45-4c4e-bfaf-e972f02e5c0e",
   "metadata": {},
   "outputs": [],
   "source": [
    "pop {r1-r3}"
   ]
  },
  {
   "cell_type": "code",
   "execution_count": null,
   "id": "b7cda372-1801-4c75-9214-44adba2c6b26",
   "metadata": {},
   "outputs": [],
   "source": [
    ">>> show stack as hex"
   ]
  },
  {
   "cell_type": "code",
   "execution_count": 5,
   "id": "9e66d5dd-19b4-403e-a4fb-1a308449f884",
   "metadata": {},
   "outputs": [
    {
     "data": {
      "text/html": [
       "\n",
       "<h4>Memory:</h4>\n",
       "<table>\n",
       "<tr>\n",
       "    <th>Address</th>\n",
       "    <th>Content</th>\n",
       "</tr>\n",
       "<tr\n",
       "\n",
       "    <tr>\n",
       "        <td>0x0057f000</td>\n",
       "        \n",
       "        <td>0x6c6c6568</td>\n",
       "        \n",
       "    </tr>\n",
       "\n",
       "    <tr>\n",
       "        <td>0x0057f004</td>\n",
       "        \n",
       "        <td>0x0000006f</td>\n",
       "        \n",
       "    </tr>\n",
       "\n",
       "</table>"
      ]
     },
     "metadata": {},
     "output_type": "display_data"
    }
   ],
   "source": [
    ">>> show memw[label2] as hex"
   ]
  },
  {
   "cell_type": "code",
   "execution_count": 3,
   "id": "d45fbd3d-1977-4473-994a-aed64840ea48",
   "metadata": {},
   "outputs": [
    {
     "data": {
      "text/html": [
       "\n",
       "<style>\n",
       "    table { border-collapse: collapse; }\n",
       "    td {\n",
       "        border-bottom: solid 1px black !important;\n",
       "        border-top: solid 1px black !important;  \n",
       "    }\n",
       "</style>\n",
       "<h4>Registers:</h4>\n",
       "<table>\n",
       "    \n",
       "    <tr>\n",
       "        <td class=\"t-cell\"><strong>r0:</strong></td>\n",
       "        <td class=\"reg-val\">3</td>\n",
       "    </tr>\n",
       "    \n",
       "</table>"
      ]
     },
     "metadata": {},
     "output_type": "display_data"
    }
   ],
   "source": [
    "    mov r0, #0\n",
    "for:\n",
    "    cmp r0, #3\n",
    "    beq endfor\n",
    "    add r0, #1\n",
    "    b for\n",
    "endfor:\n",
    ">>> show registers[0]"
   ]
  },
  {
   "cell_type": "code",
   "execution_count": null,
   "id": "3ebd12b6-f080-45c8-8fbc-274296fde2fb",
   "metadata": {},
   "outputs": [],
   "source": [
    "mov r0, #26\n",
    "\n",
    ">>> show registers[0]"
   ]
  },
  {
   "cell_type": "code",
   "execution_count": null,
   "id": "4bac9098-58da-4596-a162-6b8ce8b465dd",
   "metadata": {},
   "outputs": [],
   "source": []
  }
 ],
 "metadata": {
  "kernelspec": {
   "display_name": "ARM",
   "language": "ARM Assembly",
   "name": "arm"
  },
  "language_info": {
   "file_extension": ".txt",
   "mimetype": "text/html",
   "name": "Any text"
  }
 },
 "nbformat": 4,
 "nbformat_minor": 5
}
