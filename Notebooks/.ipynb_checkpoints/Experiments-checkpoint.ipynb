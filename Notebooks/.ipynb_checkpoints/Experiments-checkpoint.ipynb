{
 "cells": [
  {
   "cell_type": "code",
   "execution_count": 1,
   "id": "c9fd238b-3bd4-432f-a4c4-a55b9eddd0d6",
   "metadata": {},
   "outputs": [
    {
     "data": {
      "text/html": [
       "<p>-- kernel configured successfully --</p>"
      ]
     },
     "metadata": {},
     "output_type": "display_data"
    }
   ],
   "source": [
    "__config__\n",
    "memory:\n",
    "    items:\n",
    "        label1:\n",
    "            type: word\n",
    "            access: ro\n",
    "            size: 6\n",
    "            content: [1,2,3]"
   ]
  },
  {
   "cell_type": "code",
   "execution_count": 2,
   "id": "7b25c218-da2f-43e7-a586-a21baeda0911",
   "metadata": {},
   "outputs": [
    {
     "data": {
      "text/html": [
       "\n",
       "<style>\n",
       "    table { border-collapse: collapse; }\n",
       "    td {\n",
       "        border-bottom: solid 1px black !important;\n",
       "        border-top: solid 1px black !important;  \n",
       "    }\n",
       "</style>\n",
       "<h4>Registers:</h4>\n",
       "<table>\n",
       "    \n",
       "    <tr>\n",
       "        <td class=\"t-cell\"><strong>r0:</strong></td>\n",
       "        <td class=\"reg-val\">0x6</td>\n",
       "    </tr>\n",
       "    \n",
       "</table>"
      ]
     },
     "metadata": {},
     "output_type": "display_data"
    }
   ],
   "source": [
    "mov R0, #3\n",
    "add R0, #3\n",
    ">>> show registers[0] as hex"
   ]
  },
  {
   "cell_type": "code",
   "execution_count": 3,
   "id": "398926f5-3bde-408d-8b0c-f70c03b48fd4",
   "metadata": {},
   "outputs": [
    {
     "data": {
      "text/html": [
       "\n",
       "<h4>NZCV Flags</h4>\n",
       "<table>\n",
       "<tr>\n",
       "    <th>N</th><th>Z</th><th>C</th><th>V</th>\n",
       "</tr>\n",
       "<tr>\n",
       "    <td>0</td>\n",
       "    <td>0</td>\n",
       "    <td>1</td>\n",
       "    <td>1</td>\n",
       "</tr>\n",
       "</table>"
      ]
     },
     "metadata": {},
     "output_type": "display_data"
    }
   ],
   "source": [
    "movs r0, #1\n",
    ">>> show nzcv"
   ]
  },
  {
   "cell_type": "code",
   "execution_count": 2,
   "id": "58f951a5-70e7-43ba-812e-45b6bf1be31d",
   "metadata": {},
   "outputs": [],
   "source": [
    "mov r1, #1\n",
    "mov r2, #2\n",
    "mov r3, #3\n",
    "push {r1 - r3}"
   ]
  },
  {
   "cell_type": "code",
   "execution_count": 3,
   "id": "5b7411c3-94b3-48f0-8a54-ddd06b052e69",
   "metadata": {},
   "outputs": [
    {
     "data": {
      "text/html": [
       "\n",
       "<h4>Stack:</h4>\n",
       "<table>\n",
       "<tr>\n",
       "    <th>Address</th>\n",
       "    <th>Content</th>\n",
       "    <th>SP</th>\n",
       "</tr>\n",
       "<tr>\n",
       "    <td>0x100000</td>\n",
       "    <td>Bottom</td>\n",
       "    <td>\n",
       "        \n",
       "    </td>\n",
       "</tr>\n",
       "<tr\n",
       "\n",
       "    <tr>\n",
       "        <td>0xffffc</td>\n",
       "        <td>0x3</td>\n",
       "        <td>\n",
       "            \n",
       "        </td>\n",
       "    </tr>\n",
       "\n",
       "    <tr>\n",
       "        <td>0xffff8</td>\n",
       "        <td>0x2</td>\n",
       "        <td>\n",
       "            \n",
       "        </td>\n",
       "    </tr>\n",
       "\n",
       "    <tr>\n",
       "        <td>0xffff4</td>\n",
       "        <td>0x1</td>\n",
       "        <td>\n",
       "            \n",
       "            <em>&larr;</em>\n",
       "            \n",
       "        </td>\n",
       "    </tr>\n",
       "\n",
       "</table>"
      ]
     },
     "metadata": {},
     "output_type": "display_data"
    }
   ],
   "source": [
    ">>> show stack as hex"
   ]
  },
  {
   "cell_type": "code",
   "execution_count": 3,
   "id": "932cec47-df45-4c4e-bfaf-e972f02e5c0e",
   "metadata": {},
   "outputs": [],
   "source": [
    "pop {r1-r3}"
   ]
  },
  {
   "cell_type": "code",
   "execution_count": 1,
   "id": "b7cda372-1801-4c75-9214-44adba2c6b26",
   "metadata": {},
   "outputs": [
    {
     "data": {
      "text/html": [
       "\n",
       "<h4>Stack:</h4>\n",
       "<table>\n",
       "<tr>\n",
       "    <th>Address</th>\n",
       "    <th>Content</th>\n",
       "    <th>SP</th>\n",
       "</tr>\n",
       "<tr>\n",
       "    <td>0x100000</td>\n",
       "    <td>Bottom</td>\n",
       "    <td>\n",
       "        \n",
       "        <em>&larr;</em>\n",
       "        \n",
       "    </td>\n",
       "</tr>\n",
       "<tr\n",
       "\n",
       "</table>"
      ]
     },
     "metadata": {},
     "output_type": "display_data"
    }
   ],
   "source": [
    ">>> show stack as hex"
   ]
  },
  {
   "cell_type": "code",
   "execution_count": 3,
   "id": "9e66d5dd-19b4-403e-a4fb-1a308449f884",
   "metadata": {},
   "outputs": [
    {
     "data": {
      "text/html": [
       "\n",
       "<h4>Memory:</h4>\n",
       "<table>\n",
       "<tr>\n",
       "    <th>Address</th>\n",
       "    <th>Content</th>\n",
       "</tr>\n",
       "<tr\n",
       "\n",
       "    <tr>\n",
       "        <td>0x580000</td>\n",
       "        <td>0x1</td>\n",
       "    </tr>\n",
       "\n",
       "    <tr>\n",
       "        <td>0x580004</td>\n",
       "        <td>0x2</td>\n",
       "    </tr>\n",
       "\n",
       "    <tr>\n",
       "        <td>0x580008</td>\n",
       "        <td>0x3</td>\n",
       "    </tr>\n",
       "\n",
       "</table>"
      ]
     },
     "metadata": {},
     "output_type": "display_data"
    }
   ],
   "source": [
    ">>> show mem[label1] as hex"
   ]
  },
  {
   "cell_type": "code",
   "execution_count": null,
   "id": "acf31370-050d-46b2-b07b-4652de59219c",
   "metadata": {},
   "outputs": [],
   "source": []
  }
 ],
 "metadata": {
  "kernelspec": {
   "display_name": "ARM",
   "language": "ARM Assembly",
   "name": "arm"
  },
  "language_info": {
   "file_extension": ".txt",
   "mimetype": "text/html",
   "name": "Any text"
  }
 },
 "nbformat": 4,
 "nbformat_minor": 5
}
