{
 "cells": [
  {
   "cell_type": "code",
   "execution_count": 1,
   "id": "7b25c218-da2f-43e7-a586-a21baeda0911",
   "metadata": {},
   "outputs": [
    {
     "data": {
      "text/html": [
       "\n",
       "<style>\n",
       "    table { border-collapse: collapse; }\n",
       "    .t-cell {\n",
       "        border-right: solid 1px #f00; \n",
       "        border-left: solid 1px #f00;\n",
       "    }\n",
       "</style>\n",
       "<h3>Registers:</h3>\n",
       "<table>\n",
       "    <tr>\n",
       "        \n",
       "        <td class=\"t-cell\"><strong>R0</strong></td>\n",
       "        <td  class=\"t-cell\">6</td>\n",
       "        \n",
       "        <td class=\"t-cell\"><strong>R1</strong></td>\n",
       "        <td  class=\"t-cell\">0</td>\n",
       "        \n",
       "        <td class=\"t-cell\"><strong>R2</strong></td>\n",
       "        <td  class=\"t-cell\">0</td>\n",
       "        \n",
       "        <td class=\"t-cell\"><strong>R3</strong></td>\n",
       "        <td  class=\"t-cell\">0</td>\n",
       "        \n",
       "        <td class=\"t-cell\"><strong>R4</strong></td>\n",
       "        <td  class=\"t-cell\">0</td>\n",
       "        \n",
       "        <td class=\"t-cell\"><strong>R5</strong></td>\n",
       "        <td  class=\"t-cell\">0</td>\n",
       "        \n",
       "    </tr>\n",
       "    <tr>\n",
       "        \n",
       "        <td class=\"t-cell\"><strong>R6</strong></td>\n",
       "        <td class=\"t-cell\">0</td>\n",
       "        \n",
       "        <td class=\"t-cell\"><strong>R7</strong></td>\n",
       "        <td class=\"t-cell\">0</td>\n",
       "        \n",
       "        <td class=\"t-cell\"><strong>R8</strong></td>\n",
       "        <td class=\"t-cell\">0</td>\n",
       "        \n",
       "        <td class=\"t-cell\"><strong>R9</strong></td>\n",
       "        <td class=\"t-cell\">0</td>\n",
       "        \n",
       "        <td class=\"t-cell\"><strong>R10</strong></td>\n",
       "        <td class=\"t-cell\">0</td>\n",
       "        \n",
       "        <td class=\"t-cell\"><strong>R11</strong></td>\n",
       "        <td class=\"t-cell\">0</td>\n",
       "        \n",
       "        <td class=\"t-cell\"><strong>R12</strong></td>\n",
       "        <td class=\"t-cell\">0</td>\n",
       "        \n",
       "    </tr>\n",
       "</table>"
      ]
     },
     "metadata": {},
     "output_type": "display_data"
    }
   ],
   "source": [
    "mov R0, #3\n",
    "add R0, #3"
   ]
  },
  {
   "cell_type": "code",
   "execution_count": 2,
   "id": "c9fd238b-3bd4-432f-a4c4-a55b9eddd0d6",
   "metadata": {},
   "outputs": [
    {
     "data": {
      "text/html": [
       "<p>-- kernel configured successfully --</p>"
      ]
     },
     "metadata": {},
     "output_type": "display_data"
    }
   ],
   "source": [
    "__config__\n",
    "memory:\n",
    "    items:\n",
    "        label1:\n",
    "            type: word\n",
    "            access: ro\n",
    "            content: [1,2,3]"
   ]
  },
  {
   "cell_type": "code",
   "execution_count": 3,
   "id": "045826d6-4384-4134-bbbf-6577128c94ed",
   "metadata": {},
   "outputs": [
    {
     "data": {
      "text/html": [
       "\n",
       "<style>\n",
       "    table { border-collapse: collapse; }\n",
       "    .t-cell {\n",
       "        border-right: solid 1px #f00; \n",
       "        border-left: solid 1px #f00;\n",
       "    }\n",
       "</style>\n",
       "<h3>Registers:</h3>\n",
       "<table>\n",
       "    <tr>\n",
       "        \n",
       "        <td class=\"t-cell\"><strong>R0</strong></td>\n",
       "        <td  class=\"t-cell\">5767184</td>\n",
       "        \n",
       "        <td class=\"t-cell\"><strong>R1</strong></td>\n",
       "        <td  class=\"t-cell\">2</td>\n",
       "        \n",
       "        <td class=\"t-cell\"><strong>R2</strong></td>\n",
       "        <td  class=\"t-cell\">0</td>\n",
       "        \n",
       "        <td class=\"t-cell\"><strong>R3</strong></td>\n",
       "        <td  class=\"t-cell\">0</td>\n",
       "        \n",
       "        <td class=\"t-cell\"><strong>R4</strong></td>\n",
       "        <td  class=\"t-cell\">0</td>\n",
       "        \n",
       "        <td class=\"t-cell\"><strong>R5</strong></td>\n",
       "        <td  class=\"t-cell\">0</td>\n",
       "        \n",
       "    </tr>\n",
       "    <tr>\n",
       "        \n",
       "        <td class=\"t-cell\"><strong>R6</strong></td>\n",
       "        <td class=\"t-cell\">0</td>\n",
       "        \n",
       "        <td class=\"t-cell\"><strong>R7</strong></td>\n",
       "        <td class=\"t-cell\">0</td>\n",
       "        \n",
       "        <td class=\"t-cell\"><strong>R8</strong></td>\n",
       "        <td class=\"t-cell\">0</td>\n",
       "        \n",
       "        <td class=\"t-cell\"><strong>R9</strong></td>\n",
       "        <td class=\"t-cell\">0</td>\n",
       "        \n",
       "        <td class=\"t-cell\"><strong>R10</strong></td>\n",
       "        <td class=\"t-cell\">0</td>\n",
       "        \n",
       "        <td class=\"t-cell\"><strong>R11</strong></td>\n",
       "        <td class=\"t-cell\">0</td>\n",
       "        \n",
       "        <td class=\"t-cell\"><strong>R12</strong></td>\n",
       "        <td class=\"t-cell\">0</td>\n",
       "        \n",
       "    </tr>\n",
       "</table>"
      ]
     },
     "metadata": {},
     "output_type": "display_data"
    }
   ],
   "source": [
    "ldr r0, =label1\n",
    "ldr r1, [r0, #4]"
   ]
  },
  {
   "cell_type": "code",
   "execution_count": null,
   "id": "04df5cf0-e840-4ee0-9b59-06975270ab8d",
   "metadata": {},
   "outputs": [],
   "source": []
  }
 ],
 "metadata": {
  "kernelspec": {
   "display_name": "ARM",
   "language": "",
   "name": "arm_kernel"
  },
  "language_info": {
   "file_extension": ".txt",
   "mimetype": "text/html",
   "name": "Any text"
  }
 },
 "nbformat": 4,
 "nbformat_minor": 5
}
